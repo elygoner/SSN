{
  "nbformat": 4,
  "nbformat_minor": 0,
  "metadata": {
    "colab": {
      "provenance": []
    },
    "kernelspec": {
      "name": "python3",
      "display_name": "Python 3"
    },
    "language_info": {
      "name": "python"
    }
  },
  "cells": [
    {
      "cell_type": "markdown",
      "source": [
        "a)\n",
        "Equacions del mètode de Fayman:"
      ],
      "metadata": {
        "id": "qph7nT3Q-VaJ"
      }
    },
    {
      "cell_type": "code",
      "execution_count": null,
      "metadata": {
        "id": "YNx-k_U2-UDa"
      },
      "outputs": [],
      "source": [
        "x[t+e] = x[t] + e*v[t+e/2]\n",
        "v[t+e/2] = v[t-e/2] + e*a[t]\n",
        "a[t]=F[t]/m"
      ]
    },
    {
      "cell_type": "markdown",
      "source": [
        "Equacions del mètode fe \"velocity Verlet\""
      ],
      "metadata": {
        "id": "QElT5obh-4Ys"
      }
    },
    {
      "cell_type": "code",
      "source": [
        "x[t+e] = x[t] + e*v[t] + e**2*a[t]\n",
        "a[t+e] = F[t+e]/m\n",
        "v[t+e] = v[t] + e*(a[t]+a[t+e])/2"
      ],
      "metadata": {
        "id": "RFH4Ipt1--5C"
      },
      "execution_count": null,
      "outputs": []
    },
    {
      "cell_type": "markdown",
      "source": [
        "Es basen en principis equivalents, però Feyman calcula la velositat entre punts, per poder usar la acceleració calculada al punt com a promitg. Velosity verlet, calcula la velositat fent un promitg entre la calculada per el punt actual l'anterior."
      ],
      "metadata": {
        "id": "TMcw4pXx-_d8"
      }
    },
    {
      "cell_type": "markdown",
      "source": [
        "b) i c) Com en el VV es calcula la v a cada pas, es pot agafar la velositat calculada per calcular la energia. Com feynman calcula les v entre punts, aixó no es aplicable i per tant s'auria de fer un promitg de les velositats en cada iteració i després calcular les energies igual que en el mètode VV."
      ],
      "metadata": {
        "id": "X-7vJKGVM4VV"
      }
    },
    {
      "cell_type": "code",
      "source": [
        "#Afegir avans de l'iteració:\n",
        "vp = np.zeros(ntot+1)\n",
        "vp[0] = v0\n",
        "\n",
        "#En l'iteració\n",
        "while i<ntot:\n",
        "    a = -x[i]\n",
        "    ############\n",
        "    v_n = v_hk\n",
        "    ############\n",
        "    v_hk = v_hk+a*dt\n",
        "    x[i+1] = x[i]+dt*v_hk\n",
        "    t[i+1] = t[i]+dt\n",
        "    ############\n",
        "    vp[i] = (v_n + v_hk)/2\n",
        "    ############\n",
        "    i=i+1\n",
        "    print('Step',i,' t= ',round(t[i],3),' x=',round(x[i],3))\n",
        "\n",
        "# Després de l'iteració\n",
        "E=(m/2.0)*vp*vp+(k/2)*x*x\n",
        "RE=E/E0\n",
        "plt.plot(t,RE,'k')\n",
        "plt.xlabel('time (ns)')\n",
        "plt.ylabel('E/E0')\n",
        "plt.show()\n"
      ],
      "metadata": {
        "id": "nPmMV7w6OQ78"
      },
      "execution_count": null,
      "outputs": []
    },
    {
      "cell_type": "markdown",
      "source": [
        "2. Honestament no se que vols dir amb \"Escriviu l'equació d'Schrödinger\". Així que faré el que crec que potser vols."
      ],
      "metadata": {
        "id": "VJDkzQcfP1M2"
      }
    },
    {
      "cell_type": "code",
      "source": [
        "\n",
        "#Pou de potencial infinit de 7 nm de mida\n",
        "V[x<-3.5*10**-9 | 3.5*10**-9<x] = #inf, o com a minim un numero molt gran (pot ser implementat igualant els limits cinetics de les parets a zero)\n",
        "V[x>-3.5*10**-9 & x<3.5*10**-9] = 0\n",
        "Yn[x<-3.5*10**-9 | 3.5*10**-9<x] = 0\n",
        "Yn[x>-3.5*10**-9 & x<3.5*10**-9] = A*cos(7*10**-9/(n*2*pi)*x) + B*sin(7*10**-9/(n*2*pi)x)\n",
        "\n",
        "(1.054571817*10**-34/(2*9,1*10**-31)*[\"laplesià\"]+V) * Yn = E\n",
        "\n",
        "#Unidades atòmicas\n",
        "V[x<-66,1404 | 66,1404<x] = inf\n",
        "V[x>-66,1404 & x<66,1404] = 0\n",
        "Yn[x<-66,1404 | 66,1404<x] = 0\n",
        "Yn[x>-66,1404 & x<66,1404] = A*cos(66,1404/(n*2*pi)*x) + B*sin(66,1404/(n*2*pi)x)\n",
        "\n",
        "(0.5*[\"laplesià\"]+V) * Yn = E"
      ],
      "metadata": {
        "id": "KI_ESh1rUahr"
      },
      "execution_count": null,
      "outputs": []
    }
  ]
}